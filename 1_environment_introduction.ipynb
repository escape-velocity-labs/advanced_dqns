{
  "nbformat": 4,
  "nbformat_minor": 0,
  "metadata": {
    "colab": {
      "name": "1_environment_introduction.ipynb",
      "provenance": [],
      "collapsed_sections": []
    },
    "kernelspec": {
      "name": "python3",
      "display_name": "Python 3"
    },
    "language_info": {
      "name": "python"
    }
  },
  "cells": [
    {
      "cell_type": "markdown",
      "source": [
        "# Advanced Reinforcement Learning - AI in Python"
      ],
      "metadata": {
        "id": "NNOsVMSojr7u"
      }
    },
    {
      "cell_type": "code",
      "execution_count": null,
      "metadata": {
        "id": "Xaphcuxrjkt0"
      },
      "outputs": [],
      "source": [
        "!apt-get install -y \\\n",
        "    libgl1-mesa-dev \\\n",
        "    libgl1-mesa-glx \\\n",
        "    libglew-dev \\\n",
        "    xvfb \\\n",
        "    libosmesa6-dev \\\n",
        "    software-properties-common \\\n",
        "    patchelf\n",
        "\n",
        "!pip install \\\n",
        "    free-mujoco-py \\\n",
        "    gym==0.21 \\\n",
        "    gym[box2d] \\\n",
        "    pytorch-lightning==1.5.8 \\\n",
        "    optuna \\\n",
        "    pyvirtualdisplay \\\n",
        "    PyOpenGL \\\n",
        "    PyOpenGL-accelerate"
      ]
    },
    {
      "cell_type": "code",
      "source": [
        "from pyvirtualdisplay import Display\n",
        "Display(visible=False, size=(1400, 900)).start()"
      ],
      "metadata": {
        "id": "UeBzr6Kyj1UQ"
      },
      "execution_count": null,
      "outputs": []
    },
    {
      "cell_type": "code",
      "source": [
        "import gym\n",
        "\n",
        "from base64 import b64encode\n",
        "from IPython.display import HTML\n",
        "from gym.wrappers import RecordVideo, RecordEpisodeStatistics, FlattenObservation, FilterObservation"
      ],
      "metadata": {
        "id": "mveYhSygj8nG"
      },
      "execution_count": null,
      "outputs": []
    },
    {
      "cell_type": "code",
      "source": [
        "for env in gym.envs.registry.all():\n",
        "  print(env.id)"
      ],
      "metadata": {
        "id": "jgdskdqflmUf"
      },
      "execution_count": null,
      "outputs": []
    },
    {
      "cell_type": "markdown",
      "source": [
        "#### Create a function to visualize our environments"
      ],
      "metadata": {
        "id": "flxbKZQxj9-h"
      }
    },
    {
      "cell_type": "code",
      "source": [
        "def display_video(episode=0):\n",
        "  video_file = open(f'/content/videos/rl-video-episode-{episode}.mp4', \"r+b\").read()\n",
        "  video_url = f\"data:video/mp4;base64,{b64encode(video_file).decode()}\"\n",
        "  return HTML(f\"<video width=600 controls><source src='{video_url}'></video>\")\n",
        "\n",
        "def test_environment(env):\n",
        "  env.reset()\n",
        "  done = False\n",
        "  while not done:\n",
        "    _, _, done, _ = env.step(env.action_space.sample())\n",
        "  # env.close()\n",
        "  return display_video()\n",
        "\n",
        "\n",
        "def create_environment(name):\n",
        "  env = gym.make(name)\n",
        "  env = RecordVideo(env, video_folder='./videos', episode_trigger=lambda x: x % 50 == 0)\n",
        "  env = RecordEpisodeStatistics(env)\n",
        "  return env"
      ],
      "metadata": {
        "id": "xStq6X5Nj-XR"
      },
      "execution_count": null,
      "outputs": []
    },
    {
      "cell_type": "markdown",
      "source": [
        "## Introduction to the tasks in this course"
      ],
      "metadata": {
        "id": "iIFtSzikkFVN"
      }
    },
    {
      "cell_type": "markdown",
      "source": [
        "#### Lunar lander"
      ],
      "metadata": {
        "id": "liOVebPqkIhp"
      }
    },
    {
      "cell_type": "code",
      "source": [
        "env = create_environment('LunarLander-v2')\n",
        "test_environment(env)"
      ],
      "metadata": {
        "id": "KGbWmi4Fj-Z8"
      },
      "execution_count": null,
      "outputs": []
    },
    {
      "cell_type": "code",
      "source": [
        "print(f\"\"\"\n",
        "  Observation dimensions: {env.observation_space.shape}.\n",
        "  Sample observation: {env.observation_space.sample()}.\n",
        "  Actions: {env.action_space.n}.\n",
        "\"\"\")"
      ],
      "metadata": {
        "id": "0qLrHecQj-c-"
      },
      "execution_count": null,
      "outputs": []
    },
    {
      "cell_type": "markdown",
      "source": [
        "#### Robotic arm: Pick and place the block"
      ],
      "metadata": {
        "id": "_TagTkpfkc8H"
      }
    },
    {
      "cell_type": "code",
      "source": [
        "env = create_environment('FetchPickAndPlaceDense-v1')\n",
        "test_environment(env)"
      ],
      "metadata": {
        "id": "O2yQEczHj-lN"
      },
      "execution_count": null,
      "outputs": []
    },
    {
      "cell_type": "code",
      "source": [
        "sample_observation = env.observation_space.sample()\n",
        "\n",
        "print(\"Sample observation:\")\n",
        "for key in sample_observation:\n",
        "  print(key, sample_observation[key])\n",
        "\n",
        "print(\"Sample action\")\n",
        "print(env.action_space.sample())"
      ],
      "metadata": {
        "id": "Yq7ZNMvzj-oA"
      },
      "execution_count": null,
      "outputs": []
    },
    {
      "cell_type": "markdown",
      "source": [
        "#### Robotic arm: Push the block to the target"
      ],
      "metadata": {
        "id": "RbwEFKEoks_2"
      }
    },
    {
      "cell_type": "code",
      "source": [
        "env = create_environment('FetchPushDense-v1')\n",
        "test_environment(env)"
      ],
      "metadata": {
        "id": "VfhLGfG9khgu"
      },
      "execution_count": null,
      "outputs": []
    },
    {
      "cell_type": "code",
      "source": [
        "sample_observation = env.observation_space.sample()\n",
        "\n",
        "print(\"Sample observation:\")\n",
        "for key in sample_observation:\n",
        "  print(key, sample_observation[key])\n",
        "\n",
        "print(\"Sample action\")\n",
        "print(env.action_space.sample())"
      ],
      "metadata": {
        "id": "KnmPpl-ZkhjH"
      },
      "execution_count": null,
      "outputs": []
    },
    {
      "cell_type": "markdown",
      "source": [
        "#### Shadow hand: Manipulate block"
      ],
      "metadata": {
        "id": "HkvPDnr6lB7I"
      }
    },
    {
      "cell_type": "code",
      "source": [
        "env = create_environment('HandManipulateBlockRotateXYZTouchSensorsDense-v1')\n",
        "test_environment(env)"
      ],
      "metadata": {
        "id": "mF-uVfhVkhlq"
      },
      "execution_count": null,
      "outputs": []
    },
    {
      "cell_type": "code",
      "source": [
        "sample_observation = env.observation_space.sample()\n",
        "\n",
        "print(\"Sample observation:\")\n",
        "for key in sample_observation:\n",
        "  print(key, sample_observation[key])\n",
        "\n",
        "print(\"Sample action\")\n",
        "print(env.action_space.sample())"
      ],
      "metadata": {
        "id": "x6aAiMwSkhqI"
      },
      "execution_count": null,
      "outputs": []
    },
    {
      "cell_type": "markdown",
      "source": [
        "#### Shadow hand: Manipulate egg"
      ],
      "metadata": {
        "id": "DkNJzrcBlLYL"
      }
    },
    {
      "cell_type": "code",
      "source": [
        "env = create_environment('HandManipulateEggFullDense-v0')\n",
        "test_environment(env)"
      ],
      "metadata": {
        "id": "UCUsq2uKkhs8"
      },
      "execution_count": null,
      "outputs": []
    },
    {
      "cell_type": "code",
      "source": [
        "sample_observation = env.observation_space.sample()\n",
        "\n",
        "print(\"Sample observation:\")\n",
        "for key in sample_observation:\n",
        "  print(key, sample_observation[key])\n",
        "\n",
        "print(\"Sample action\")\n",
        "print(env.action_space.sample())"
      ],
      "metadata": {
        "id": "s0VQvW_3khvv"
      },
      "execution_count": null,
      "outputs": []
    },
    {
      "cell_type": "markdown",
      "source": [
        "#### Shadow hand: Manipulate pen"
      ],
      "metadata": {
        "id": "wzEiN9mElSEC"
      }
    },
    {
      "cell_type": "code",
      "source": [
        "env = create_environment('HandManipulatePenRotateDense-v0')\n",
        "test_environment(env)"
      ],
      "metadata": {
        "id": "gSbmWn-SkiEH"
      },
      "execution_count": null,
      "outputs": []
    },
    {
      "cell_type": "code",
      "source": [
        "sample_observation = env.observation_space.sample()\n",
        "\n",
        "print(\"Sample observation:\")\n",
        "for key in sample_observation:\n",
        "  print(key, sample_observation[key])\n",
        "\n",
        "print(\"Sample action\")\n",
        "print(env.action_space.sample())"
      ],
      "metadata": {
        "id": "CsgJNT54lS8e"
      },
      "execution_count": null,
      "outputs": []
    },
    {
      "cell_type": "markdown",
      "source": [
        "#### Shadow hand: Manipulate block"
      ],
      "metadata": {
        "id": "YvZjMCu5laUM"
      }
    },
    {
      "cell_type": "code",
      "source": [
        "env = create_environment('HandManipulateBlockRotateXYZTouchSensors-v1')\n",
        "test_environment(env)"
      ],
      "metadata": {
        "id": "QpoMPEzulS-t"
      },
      "execution_count": null,
      "outputs": []
    },
    {
      "cell_type": "code",
      "source": [
        "sample_observation = env.observation_space.sample()\n",
        "\n",
        "print(\"Sample observation:\")\n",
        "for key in sample_observation:\n",
        "  print(key, sample_observation[key])\n",
        "\n",
        "print(\"Sample action\")\n",
        "print(env.action_space.sample())"
      ],
      "metadata": {
        "id": "LouckOeBlTBX"
      },
      "execution_count": null,
      "outputs": []
    }
  ]
}